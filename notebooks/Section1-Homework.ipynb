{
 "cells": [
  {
   "cell_type": "markdown",
   "metadata": {},
   "source": [
    "# Section 1: Homework Exercises\n",
    "\n",
    "This material provides some hands-on experience using the methods learned from the first day's material. They focus on building models using real-world data."
   ]
  },
  {
   "cell_type": "markdown",
   "metadata": {
    "editable": true
   },
   "source": [
    "## Exercise: Comparing Two Groups with Binary Outcomes\n",
    "\n",
    "Binary outcomes are common in clinical research: \n",
    "\n",
    "- survival/death\n",
    "- true/false\n",
    "- presence/absence\n",
    "- positive/negative\n",
    "\n",
    "In practice, binary outcomes are encoded as ones (for event occurrences) and zeros (for non-occurrence). A single binary variable is distributed as a **Bernoulli** random variable:\n",
    "\n",
    "$$f(x \\mid p) = p^{x} (1-p)^{1-x}$$\n",
    "\n",
    "In terms of inference, we are typically interested in whether $p$ is larger or smaller in one group relative to another.\n",
    "\n",
    "To demonstrate the comparison of two groups with binary outcomes using Bayesian inference, we will use a sample pediatric dataset. Data on 671 infants with very low (<1600 grams) birth weight from 1981-87 were collected at Duke University Medical Center. Of interest is the relationship between the outcome intra-ventricular hemorrhage (IVH) and predictor such as birth weight, gestational age, presence of pneumothorax and mode of delivery."
   ]
  },
  {
   "cell_type": "code",
   "execution_count": 30,
   "metadata": {
    "collapsed": false,
    "editable": true,
    "jupyter": {
     "outputs_hidden": false
    }
   },
   "outputs": [
    {
     "data": {
      "text/html": [
       "<div>\n",
       "<style scoped>\n",
       "    .dataframe tbody tr th:only-of-type {\n",
       "        vertical-align: middle;\n",
       "    }\n",
       "\n",
       "    .dataframe tbody tr th {\n",
       "        vertical-align: top;\n",
       "    }\n",
       "\n",
       "    .dataframe thead th {\n",
       "        text-align: right;\n",
       "    }\n",
       "</style>\n",
       "<table border=\"1\" class=\"dataframe\">\n",
       "  <thead>\n",
       "    <tr style=\"text-align: right;\">\n",
       "      <th></th>\n",
       "      <th>birth</th>\n",
       "      <th>exit</th>\n",
       "      <th>hospstay</th>\n",
       "      <th>lowph</th>\n",
       "      <th>pltct</th>\n",
       "      <th>race</th>\n",
       "      <th>bwt</th>\n",
       "      <th>gest</th>\n",
       "      <th>inout</th>\n",
       "      <th>twn</th>\n",
       "      <th>...</th>\n",
       "      <th>vent</th>\n",
       "      <th>pneumo</th>\n",
       "      <th>pda</th>\n",
       "      <th>cld</th>\n",
       "      <th>pvh</th>\n",
       "      <th>ivh</th>\n",
       "      <th>ipe</th>\n",
       "      <th>year</th>\n",
       "      <th>sex</th>\n",
       "      <th>dead</th>\n",
       "    </tr>\n",
       "  </thead>\n",
       "  <tbody>\n",
       "    <tr>\n",
       "      <th>5</th>\n",
       "      <td>81.593002</td>\n",
       "      <td>81.598999</td>\n",
       "      <td>2.0</td>\n",
       "      <td>6.969997</td>\n",
       "      <td>54.0</td>\n",
       "      <td>black</td>\n",
       "      <td>925.0</td>\n",
       "      <td>28.0</td>\n",
       "      <td>born at Duke</td>\n",
       "      <td>0.0</td>\n",
       "      <td>...</td>\n",
       "      <td>1.0</td>\n",
       "      <td>1.0</td>\n",
       "      <td>0.0</td>\n",
       "      <td>0.0</td>\n",
       "      <td>definite</td>\n",
       "      <td>definite</td>\n",
       "      <td>NaN</td>\n",
       "      <td>81.594055</td>\n",
       "      <td>female</td>\n",
       "      <td>1</td>\n",
       "    </tr>\n",
       "    <tr>\n",
       "      <th>6</th>\n",
       "      <td>81.601997</td>\n",
       "      <td>81.771004</td>\n",
       "      <td>62.0</td>\n",
       "      <td>7.189999</td>\n",
       "      <td>NaN</td>\n",
       "      <td>white</td>\n",
       "      <td>940.0</td>\n",
       "      <td>28.0</td>\n",
       "      <td>born at Duke</td>\n",
       "      <td>0.0</td>\n",
       "      <td>...</td>\n",
       "      <td>1.0</td>\n",
       "      <td>0.0</td>\n",
       "      <td>0.0</td>\n",
       "      <td>0.0</td>\n",
       "      <td>absent</td>\n",
       "      <td>absent</td>\n",
       "      <td>absent</td>\n",
       "      <td>81.602295</td>\n",
       "      <td>female</td>\n",
       "      <td>0</td>\n",
       "    </tr>\n",
       "    <tr>\n",
       "      <th>13</th>\n",
       "      <td>81.683998</td>\n",
       "      <td>81.853996</td>\n",
       "      <td>62.0</td>\n",
       "      <td>7.179996</td>\n",
       "      <td>182.0</td>\n",
       "      <td>black</td>\n",
       "      <td>1110.0</td>\n",
       "      <td>28.0</td>\n",
       "      <td>born at Duke</td>\n",
       "      <td>0.0</td>\n",
       "      <td>...</td>\n",
       "      <td>0.0</td>\n",
       "      <td>1.0</td>\n",
       "      <td>0.0</td>\n",
       "      <td>1.0</td>\n",
       "      <td>absent</td>\n",
       "      <td>absent</td>\n",
       "      <td>absent</td>\n",
       "      <td>81.684448</td>\n",
       "      <td>male</td>\n",
       "      <td>0</td>\n",
       "    </tr>\n",
       "    <tr>\n",
       "      <th>14</th>\n",
       "      <td>81.689003</td>\n",
       "      <td>81.877998</td>\n",
       "      <td>69.0</td>\n",
       "      <td>7.419998</td>\n",
       "      <td>361.0</td>\n",
       "      <td>white</td>\n",
       "      <td>1180.0</td>\n",
       "      <td>28.0</td>\n",
       "      <td>born at Duke</td>\n",
       "      <td>0.0</td>\n",
       "      <td>...</td>\n",
       "      <td>0.0</td>\n",
       "      <td>0.0</td>\n",
       "      <td>0.0</td>\n",
       "      <td>0.0</td>\n",
       "      <td>absent</td>\n",
       "      <td>absent</td>\n",
       "      <td>absent</td>\n",
       "      <td>81.689880</td>\n",
       "      <td>male</td>\n",
       "      <td>0</td>\n",
       "    </tr>\n",
       "    <tr>\n",
       "      <th>16</th>\n",
       "      <td>81.696999</td>\n",
       "      <td>81.952004</td>\n",
       "      <td>93.0</td>\n",
       "      <td>7.239998</td>\n",
       "      <td>255.0</td>\n",
       "      <td>black</td>\n",
       "      <td>770.0</td>\n",
       "      <td>26.0</td>\n",
       "      <td>born at Duke</td>\n",
       "      <td>0.0</td>\n",
       "      <td>...</td>\n",
       "      <td>1.0</td>\n",
       "      <td>0.0</td>\n",
       "      <td>0.0</td>\n",
       "      <td>1.0</td>\n",
       "      <td>absent</td>\n",
       "      <td>absent</td>\n",
       "      <td>absent</td>\n",
       "      <td>81.698120</td>\n",
       "      <td>male</td>\n",
       "      <td>0</td>\n",
       "    </tr>\n",
       "  </tbody>\n",
       "</table>\n",
       "<p>5 rows × 26 columns</p>\n",
       "</div>"
      ],
      "text/plain": [
       "        birth       exit  hospstay     lowph  pltct   race     bwt  gest  \\\n",
       "5   81.593002  81.598999       2.0  6.969997   54.0  black   925.0  28.0   \n",
       "6   81.601997  81.771004      62.0  7.189999    NaN  white   940.0  28.0   \n",
       "13  81.683998  81.853996      62.0  7.179996  182.0  black  1110.0  28.0   \n",
       "14  81.689003  81.877998      69.0  7.419998  361.0  white  1180.0  28.0   \n",
       "16  81.696999  81.952004      93.0  7.239998  255.0  black   770.0  26.0   \n",
       "\n",
       "           inout  twn  ...  vent  pneumo  pda  cld       pvh       ivh  \\\n",
       "5   born at Duke  0.0  ...   1.0     1.0  0.0  0.0  definite  definite   \n",
       "6   born at Duke  0.0  ...   1.0     0.0  0.0  0.0    absent    absent   \n",
       "13  born at Duke  0.0  ...   0.0     1.0  0.0  1.0    absent    absent   \n",
       "14  born at Duke  0.0  ...   0.0     0.0  0.0  0.0    absent    absent   \n",
       "16  born at Duke  0.0  ...   1.0     0.0  0.0  1.0    absent    absent   \n",
       "\n",
       "       ipe       year     sex  dead  \n",
       "5      NaN  81.594055  female     1  \n",
       "6   absent  81.602295  female     0  \n",
       "13  absent  81.684448    male     0  \n",
       "14  absent  81.689880    male     0  \n",
       "16  absent  81.698120    male     0  \n",
       "\n",
       "[5 rows x 26 columns]"
      ]
     },
     "execution_count": 30,
     "metadata": {},
     "output_type": "execute_result"
    }
   ],
   "source": [
    "vlbw = pd.read_csv('../data/vlbw.csv', index_col=0).dropna(axis=0, subset=['ivh', 'pneumo'])\n",
    "vlbw.head()"
   ]
  },
  {
   "cell_type": "markdown",
   "metadata": {
    "editable": true
   },
   "source": [
    "To demonstrate binary data analysis, we will try to estimate the difference between the probability of an intra-ventricular hemorrhage for infants with and without a pneumothorax. "
   ]
  },
  {
   "cell_type": "code",
   "execution_count": 31,
   "metadata": {
    "collapsed": false,
    "editable": true,
    "jupyter": {
     "outputs_hidden": false
    }
   },
   "outputs": [
    {
     "data": {
      "text/html": [
       "<div>\n",
       "<style scoped>\n",
       "    .dataframe tbody tr th:only-of-type {\n",
       "        vertical-align: middle;\n",
       "    }\n",
       "\n",
       "    .dataframe tbody tr th {\n",
       "        vertical-align: top;\n",
       "    }\n",
       "\n",
       "    .dataframe thead th {\n",
       "        text-align: right;\n",
       "    }\n",
       "</style>\n",
       "<table border=\"1\" class=\"dataframe\">\n",
       "  <thead>\n",
       "    <tr style=\"text-align: right;\">\n",
       "      <th>pneumo</th>\n",
       "      <th>0.0</th>\n",
       "      <th>1.0</th>\n",
       "    </tr>\n",
       "    <tr>\n",
       "      <th>ivh</th>\n",
       "      <th></th>\n",
       "      <th></th>\n",
       "    </tr>\n",
       "  </thead>\n",
       "  <tbody>\n",
       "    <tr>\n",
       "      <th>absent</th>\n",
       "      <td>359</td>\n",
       "      <td>73</td>\n",
       "    </tr>\n",
       "    <tr>\n",
       "      <th>definite</th>\n",
       "      <td>45</td>\n",
       "      <td>30</td>\n",
       "    </tr>\n",
       "    <tr>\n",
       "      <th>possible</th>\n",
       "      <td>6</td>\n",
       "      <td>4</td>\n",
       "    </tr>\n",
       "  </tbody>\n",
       "</table>\n",
       "</div>"
      ],
      "text/plain": [
       "pneumo    0.0  1.0\n",
       "ivh               \n",
       "absent    359   73\n",
       "definite   45   30\n",
       "possible    6    4"
      ]
     },
     "execution_count": 31,
     "metadata": {},
     "output_type": "execute_result"
    }
   ],
   "source": [
    "pd.crosstab(vlbw.ivh, vlbw.pneumo)"
   ]
  },
  {
   "cell_type": "markdown",
   "metadata": {
    "editable": true
   },
   "source": [
    "We will create a binary outcome by combining `definite` and `possible` into a single outcome."
   ]
  },
  {
   "cell_type": "code",
   "execution_count": 32,
   "metadata": {
    "collapsed": false,
    "editable": true,
    "jupyter": {
     "outputs_hidden": false
    }
   },
   "outputs": [],
   "source": [
    "ivh = vlbw.ivh.isin(['definite', 'possible']).astype(int).values\n",
    "x = vlbw.pneumo.astype(int).values"
   ]
  },
  {
   "cell_type": "markdown",
   "metadata": {},
   "source": [
    "Fit a model that evaluates the association of a pneumothorax with the presence of IVH."
   ]
  },
  {
   "cell_type": "code",
   "execution_count": 33,
   "metadata": {},
   "outputs": [],
   "source": [
    "# Write your answer here"
   ]
  },
  {
   "cell_type": "markdown",
   "metadata": {},
   "source": [
    "## Exercise: Sensitivity analysis\n",
    "\n",
    "Perform a Bayesian sensitivity analysis by performing SIR on the stomach cancer dataset $N$ times, with one observation (a city) removed from the dataset each time. Calculate and plot posterior medians and 95% posterior intervals for each $f(\\theta|y_{(-i)})$ to visually analyze the influence of each observation."
   ]
  },
  {
   "cell_type": "code",
   "execution_count": 1,
   "metadata": {},
   "outputs": [],
   "source": [
    "# Write your answer here"
   ]
  }
 ],
 "metadata": {
  "kernelspec": {
   "display_name": "Python 3.9.13 ('pymc-dev-py39')",
   "language": "python",
   "name": "python3"
  },
  "language_info": {
   "codemirror_mode": {
    "name": "ipython",
    "version": 3
   },
   "file_extension": ".py",
   "mimetype": "text/x-python",
   "name": "python",
   "nbconvert_exporter": "python",
   "pygments_lexer": "ipython3",
   "version": "3.9.13"
  },
  "vscode": {
   "interpreter": {
    "hash": "82ed77e24ff330c0a44af0675a1564e555d12c9ca379933fc2f5fab7d76686ed"
   }
  }
 },
 "nbformat": 4,
 "nbformat_minor": 4
}
